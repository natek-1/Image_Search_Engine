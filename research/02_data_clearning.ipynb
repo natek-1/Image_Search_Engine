{
 "cells": [
  {
   "cell_type": "code",
   "execution_count": 1,
   "metadata": {},
   "outputs": [],
   "source": [
    "import os\n",
    "from ensure import ensure_annotations"
   ]
  },
  {
   "cell_type": "code",
   "execution_count": 2,
   "metadata": {},
   "outputs": [],
   "source": [
    "os.chdir(\"../\")"
   ]
  },
  {
   "cell_type": "code",
   "execution_count": 3,
   "metadata": {},
   "outputs": [
    {
     "name": "stdout",
     "output_type": "stream",
     "text": [
      "/Users/ngkuissi/Dev/Image_Search_Engine\n"
     ]
    }
   ],
   "source": [
    "!pwd"
   ]
  },
  {
   "cell_type": "code",
   "execution_count": 4,
   "metadata": {},
   "outputs": [],
   "source": [
    "from dataclasses import dataclass\n",
    "from pathlib import Path\n",
    "\n",
    "@dataclass(frozen=True)\n",
    "class DataCleaningConfig:\n",
    "    remove_folder_dir: Path\n",
    "    remove_train_file_dir: Path\n",
    "    remove_file_extention: str\n",
    "    remove_zip_dir: Path\n"
   ]
  },
  {
   "cell_type": "code",
   "execution_count": 5,
   "metadata": {},
   "outputs": [],
   "source": [
    "from imageSearchEngine.constants import *\n",
    "from imageSearchEngine.utils.file_helpers import read_yaml, create_directories"
   ]
  },
  {
   "cell_type": "code",
   "execution_count": 6,
   "metadata": {},
   "outputs": [],
   "source": [
    "class ConfigurationManager:\n",
    "    @ensure_annotations\n",
    "    def __init__(\n",
    "        self,\n",
    "        config_filepath:Path = CONFIG_FILE_PATH,\n",
    "        params_filepath:Path = PARAMS_FILE_PATH):\n",
    "\n",
    "        self.config = read_yaml(config_filepath)\n",
    "        #self.params = read_yaml(params_filepath)\n",
    "\n",
    "        create_directories([self.config.artifacts_root])\n",
    "    \n",
    "    @ensure_annotations\n",
    "    def get_clean_data_config(self) -> DataCleaningConfig:\n",
    "        config = self.config.data_cleaning\n",
    "\n",
    "        data_cleaning_config = DataCleaningConfig(\n",
    "            remove_folder_dir=config.remove_folder_dir,\n",
    "            remove_train_file_dir=config.remove_train_file_dir,\n",
    "            remove_file_extention=config.remove_file_extention,\n",
    "            remove_zip_dir=config.remove_zip_dir\n",
    "        )\n",
    "        return data_cleaning_config"
   ]
  },
  {
   "cell_type": "code",
   "execution_count": 7,
   "metadata": {},
   "outputs": [],
   "source": [
    "import os\n",
    "import shutil\n",
    "from imageSearchEngine.logging.logger import log\n",
    "from imageSearchEngine.exception import CustomException"
   ]
  },
  {
   "cell_type": "code",
   "execution_count": 8,
   "metadata": {},
   "outputs": [],
   "source": [
    "class DataCleaning:\n",
    "    '''class that would take care of cleaning the data in current directories'''\n",
    "\n",
    "    @ensure_annotations\n",
    "    def __init__(self, config: DataCleaningConfig):\n",
    "        self.config = config\n",
    "    \n",
    "    def clean(self):\n",
    "        '''\n",
    "        Cleans data as per request should only be done once\n",
    "        '''\n",
    "        try:\n",
    "            \n",
    "            shutil.rmtree(self.config.remove_folder_dir)\n",
    "            log.info(f'Removed {self.config.remove_folder_dir}')\n",
    "            os.remove(self.config.remove_zip_dir)\n",
    "            log.info(f'Removed {self.config.remove_zip_dir}')\n",
    "            for folder in os.listdir(self.config.remove_train_file_dir):\n",
    "                current_dir = os.path.join(self.config.remove_train_file_dir, folder)\n",
    "                for items in os.listdir(current_dir):\n",
    "                    if items.endswith(f'.{self.config.remove_file_extention}'):\n",
    "                        os.remove(os.path.join(current_dir, items))\n",
    "            log.info(f'remove all the files ending with {self.config.remove_file_extention} on the directory {self.config.remove_train_file_dir}')\n",
    "        except Exception as e:\n",
    "            raise CustomException(e)\n",
    "\n",
    "        "
   ]
  },
  {
   "cell_type": "code",
   "execution_count": 9,
   "metadata": {},
   "outputs": [
    {
     "name": "stdout",
     "output_type": "stream",
     "text": [
      "[2023-09-11 16:43:06,107: INFO: file_helpers: yaml file: config/config.yaml loaded successfully]\n",
      "[2023-09-11 16:43:06,108: INFO: file_helpers: created directory at: artifacts]\n",
      "[2023-09-11 16:43:06,788: INFO: 659246889: Removed artifacts/data_ingestion/tiny-imagenet-200/test]\n",
      "[2023-09-11 16:43:06,789: INFO: 659246889: Removed artifacts/data_ingestion/tinyimagenettorch.zip]\n",
      "[2023-09-11 16:43:06,914: INFO: 659246889: remove all the files ending with txt on the directory artifacts/data_ingestion/tiny-imagenet-200/train]\n"
     ]
    }
   ],
   "source": [
    "try:\n",
    "    config = ConfigurationManager()\n",
    "    data_ingestion_config = config.get_clean_data_config()\n",
    "    data_cleaning = DataCleaning(config=data_ingestion_config)\n",
    "    data_cleaning.clean()\n",
    "except Exception as e:\n",
    "    raise CustomException(e)"
   ]
  },
  {
   "cell_type": "code",
   "execution_count": null,
   "metadata": {},
   "outputs": [],
   "source": []
  }
 ],
 "metadata": {
  "kernelspec": {
   "display_name": "search_env",
   "language": "python",
   "name": "python3"
  },
  "language_info": {
   "codemirror_mode": {
    "name": "ipython",
    "version": 3
   },
   "file_extension": ".py",
   "mimetype": "text/x-python",
   "name": "python",
   "nbconvert_exporter": "python",
   "pygments_lexer": "ipython3",
   "version": "3.11.5"
  },
  "orig_nbformat": 4
 },
 "nbformat": 4,
 "nbformat_minor": 2
}
