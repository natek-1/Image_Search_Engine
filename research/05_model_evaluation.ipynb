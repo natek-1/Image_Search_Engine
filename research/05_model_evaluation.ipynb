{
 "cells": [
  {
   "cell_type": "code",
   "execution_count": 1,
   "metadata": {},
   "outputs": [],
   "source": [
    "import os\n",
    "from ensure import ensure_annotations"
   ]
  },
  {
   "cell_type": "code",
   "execution_count": 2,
   "metadata": {},
   "outputs": [],
   "source": [
    "os.chdir(\"../\")"
   ]
  },
  {
   "cell_type": "code",
   "execution_count": 3,
   "metadata": {},
   "outputs": [
    {
     "name": "stdout",
     "output_type": "stream",
     "text": [
      "/Users/ngkuissi/Dev/Image_Search_Engine\n"
     ]
    }
   ],
   "source": [
    "!pwd"
   ]
  },
  {
   "cell_type": "code",
   "execution_count": 4,
   "metadata": {},
   "outputs": [],
   "source": [
    "from dataclasses import dataclass\n",
    "from pathlib import Path\n",
    "from typing import List\n",
    "\n",
    "@dataclass(frozen=True)\n",
    "class ModelEvaluationConfig:\n",
    "    model_path: Path\n",
    "    image_labels_path: Path\n",
    "    image_path_list_dir: Path\n",
    "    val_path: Path\n",
    "    val_feature: Path\n",
    "    n_neighbors: int\n",
    "    return_distance: bool\n",
    "    include_top: bool\n",
    "    pooling: str\n",
    "    input_shape: List\n",
    "    target_size: List\n"
   ]
  },
  {
   "cell_type": "code",
   "execution_count": 5,
   "metadata": {},
   "outputs": [],
   "source": [
    "from imageSearchEngine.constants import *\n",
    "from imageSearchEngine.utils.file_helpers import read_yaml, create_directories"
   ]
  },
  {
   "cell_type": "code",
   "execution_count": 6,
   "metadata": {},
   "outputs": [],
   "source": [
    "class ConfigurationManager:\n",
    "    @ensure_annotations\n",
    "    def __init__(\n",
    "        self,\n",
    "        config_filepath:Path = CONFIG_FILE_PATH,\n",
    "        params_filepath:Path = PARAMS_FILE_PATH):\n",
    "\n",
    "        self.config = read_yaml(config_filepath)\n",
    "        self.params = read_yaml(params_filepath)\n",
    "\n",
    "        create_directories([self.config.artifacts_root])\n",
    "\n",
    "    @ensure_annotations\n",
    "    def get_model_evaluation_config(self) -> ModelEvaluationConfig:\n",
    "        config = self.config.model_evaluation\n",
    "        params = self.params.model_evaluation\n",
    "        create_directories([config.root_dir])\n",
    "\n",
    "        model_evaluation_config = ModelEvaluationConfig(\n",
    "            model_path= config.model_path,\n",
    "            image_labels_path= config.image_labels_path,\n",
    "            image_path_list_dir = config.image_path_list_dir,\n",
    "            val_feature= config.val_feature,\n",
    "            val_path=config.val_path,\n",
    "            n_neighbors=params.n_neighbors,\n",
    "            return_distance= params.return_distance,\n",
    "            include_top= params.include_top,\n",
    "            pooling = params.pooling,\n",
    "            input_shape= params.input_shape,\n",
    "            target_size= params.target_size\n",
    "        )\n",
    "\n",
    "        return model_evaluation_config\n"
   ]
  },
  {
   "cell_type": "code",
   "execution_count": 7,
   "metadata": {},
   "outputs": [],
   "source": [
    "import os\n",
    "from tqdm import tqdm\n",
    "import pickle\n",
    "from sklearn.neighbors import KNeighborsClassifier\n",
    "from tensorflow.keras.utils import load_img, img_to_array\n",
    "from tensorflow .keras.applications import resnet50\n",
    "import numpy as np\n",
    "from imageSearchEngine.logging.logger import log\n",
    "from imageSearchEngine.exception import CustomException"
   ]
  },
  {
   "cell_type": "code",
   "execution_count": 8,
   "metadata": {},
   "outputs": [],
   "source": [
    "class ModelEvaluation:\n",
    "\n",
    "    def __init__(self, config: ModelEvaluationConfig):\n",
    "        self.config = config\n",
    "\n",
    "    @staticmethod\n",
    "    def _precision(predicted, actual):\n",
    "        prec = [value for value in predicted if value in actual]\n",
    "        prec = float(len(prec)) / float(len(predicted))\n",
    "        return prec\n",
    "    \n",
    "    @staticmethod\n",
    "    def _apk(actual: list, predicted: list, k=10) -> float:\n",
    "        \"\"\"\n",
    "        Computes the average precision at k.\n",
    "        Parameters\n",
    "        ----------\n",
    "        actual : list\n",
    "            A list of actual items to be predicted\n",
    "        predicted : list\n",
    "            An ordered list of predicted items\n",
    "        k : int, default = 10\n",
    "            Number of predictions to consider\n",
    "        Returns:\n",
    "        -------\n",
    "        score : float\n",
    "            The average precision at k.\n",
    "        \"\"\"\n",
    "        if not predicted or not actual:\n",
    "            return 0.0\n",
    "        \n",
    "        if len(predicted) > k:\n",
    "            predicted = predicted[:k]\n",
    "\n",
    "        score = 0.0\n",
    "        true_positives = 0.0\n",
    "\n",
    "        for i, p in enumerate(predicted):\n",
    "            if p in actual and p not in predicted[:i]:\n",
    "                max_ix = min(i + 1, len(predicted))\n",
    "                score += ModelEvaluation._precision(predicted[:max_ix], actual)\n",
    "                true_positives += 1\n",
    "        \n",
    "        if score == 0.0:\n",
    "            return 0.0\n",
    "        \n",
    "        return score / true_positives\n",
    "    \n",
    "    @staticmethod\n",
    "    def mapk(actual: List[list], predicted: List[list], k: int=10) -> float:\n",
    "        \"\"\"\n",
    "        Computes the mean average precision at k.\n",
    "        Parameters\n",
    "        ----------\n",
    "        actual : a list of lists\n",
    "            Actual items to be predicted\n",
    "            example: [['A', 'B', 'X'], ['A', 'B', 'Y']]\n",
    "        predicted : a list of lists\n",
    "            Ordered predictions\n",
    "            example: [['X', 'Y', 'Z'], ['X', 'Y', 'Z']]\n",
    "        Returns:\n",
    "        -------\n",
    "            mark: float\n",
    "                The mean average precision at k (map@k)\n",
    "        \"\"\"\n",
    "        if len(actual) != len(predicted):\n",
    "            raise AssertionError(\"Length mismatched\")\n",
    "        \n",
    "        return np.mean([ModelEvaluation._apk(a,p,k) for a,p in zip(actual, predicted)])\n",
    "\n",
    "    def create_val_features(self):\n",
    "        val_features = []\n",
    "        val_image_path = []\n",
    "        for label in os.listdir(self.config.val_path):\n",
    "            image_path = os.path.join(self.config.val_path, f'{label}/images')\n",
    "            for image in os.listdir(image_path):\n",
    "                val_image_path.append(os.path.join(image_path, image))\n",
    "        log.info('all the val_path were retrived')\n",
    "\n",
    "        model = resnet50.ResNet50(\n",
    "            include_top=self.config.include_top,\n",
    "            input_shape=self.config.input_shape,\n",
    "            pooling=self.config.pooling\n",
    "        )\n",
    "        log.info('got resnet50 model from tensorflow')\n",
    "        log.info(\"new logs\")\n",
    "        for image_path in tqdm(val_image_path):\n",
    "            image = load_img(image_path, target_size=(224, 224))\n",
    "            image = img_to_array(image)\n",
    "            image = np.expand_dims(image, axis=0)\n",
    "            preprocess_image = resnet50.preprocess_input(image)\n",
    "            feature = model.predict(preprocess_image, verbose=0).flatten()\n",
    "            # getting label for the image\n",
    "            label = image_path.split('/')[-3]\n",
    "            log.info(label)\n",
    "            val_features.append((feature, label))\n",
    "        \n",
    "        return None\n",
    "        log.info('All the validation data was loaded')\n",
    "        pickle.dump(val_features, open(self.config.val_feature, 'wb'))\n",
    "        log.info('All the validation data was saved to thier repsective path')\n",
    "    \n",
    "    def get_predictions(self):\n",
    "        model = pickle.load(open(self.config.model_path, 'rb'))\n",
    "        predictions = []\n",
    "        test_labels = []\n",
    "        #make sure we have the features\n",
    "        if not os.path.exists(self.config.val_feature):\n",
    "            log.info(\"the path for the label feature does not exist creating them now\")\n",
    "            self.create_val_features()\n",
    "        \n",
    "        test_feature = pickle.load(open(self.config.val_feature, 'rb'))\n",
    "        predictions = []\n",
    "        test_labels = []\n",
    "        labels = pickle.load(open(self.config.image_labels_path, 'rb'))\n",
    "        image_path_list = pickle.load(open(self.config.image_path_list_dir, 'rb'))\n",
    "        model: KNeighborsClassifier = pickle.load(open(self.config.model_path, 'rb'))\n",
    "\n",
    "        for feature_x, label in tqdm(test_feature):\n",
    "            index_list = model.kneighbors(feature_x.reshape(1, -1),\n",
    "                                          n_neighbors=self.config.n_neighbors, return_distance=self.config.return_distance\n",
    "                                          )\n",
    "            print(index_list)\n",
    "            prediction_name = [image_path_list[i].split('/')[-1] for i in  index_list]\n",
    "            print(prediction_name)\n",
    "            predictions.append(prediction_name)\n",
    "            \n",
    "            test_labels.append(labels[label])\n",
    "        log.info(\"all the predictions were made for the test dataset\")\n",
    "        \n",
    "        return predictions, test_labels\n",
    "\n",
    "    def evaluate_model(self):\n",
    "        predictions, test_labels = self.get_predictions()\n",
    "        score = self.mapk(test_labels, predicted=predictions, k=self.config.n_neighbors)\n",
    "        log.info(f\"the score is for the model is {score}\")\n",
    "        \n",
    "        \n",
    "        \n",
    "\n",
    "\n"
   ]
  },
  {
   "cell_type": "code",
   "execution_count": 9,
   "metadata": {},
   "outputs": [
    {
     "name": "stdout",
     "output_type": "stream",
     "text": [
      "[2023-10-06 18:01:10,719: INFO: file_helpers: yaml file: config/config.yaml loaded successfully]\n",
      "[2023-10-06 18:01:10,720: INFO: file_helpers: yaml file: params.yaml loaded successfully]\n",
      "[2023-10-06 18:01:10,721: INFO: file_helpers: created directory at: artifacts]\n",
      "[2023-10-06 18:01:10,721: INFO: file_helpers: created directory at: artifacts/model_evaluation]\n"
     ]
    },
    {
     "name": "stderr",
     "output_type": "stream",
     "text": [
      "  0%|          | 0/10000 [00:00<?, ?it/s]"
     ]
    },
    {
     "name": "stdout",
     "output_type": "stream",
     "text": [
      "(array([[33.40074462, 33.72742119, 33.87100162, 33.96783901, 34.33271014,\n",
      "        34.56586748, 34.7527996 , 35.24854378, 35.44515666, 35.50906299,\n",
      "        35.56848073, 35.99504564, 36.00712176, 36.15936778, 36.31463123,\n",
      "        36.43143074, 36.43799917, 36.5012558 , 36.52662837, 36.53467992]]), array([[90572, 56957,    56, 96211, 19422, 91277,   479, 56597,  2767,\n",
      "        90814, 13684, 43025, 56854, 13714, 48222, 62502, 41531, 70374,\n",
      "           43, 68230]]))\n"
     ]
    },
    {
     "name": "stderr",
     "output_type": "stream",
     "text": [
      "\n"
     ]
    },
    {
     "name": "stdout",
     "output_type": "stream",
     "text": [
      "[2023-10-06 18:01:11,684: INFO: exception: Error occured in python script name [/var/folders/7r/vsv5qx453z3931l81y_t76y80000gn/T/ipykernel_58888/184301285.py] line number [5] error message[only integer scalar arrays can be converted to a scalar index]]\n",
      "[2023-10-06 18:01:11,694: INFO: exception: Error occured in python script name [/var/folders/7r/vsv5qx453z3931l81y_t76y80000gn/T/ipykernel_58888/184301285.py] line number [5] error message[only integer scalar arrays can be converted to a scalar index]]\n"
     ]
    },
    {
     "ename": "CustomException",
     "evalue": "Error occured in python script name [/var/folders/7r/vsv5qx453z3931l81y_t76y80000gn/T/ipykernel_58888/184301285.py] line number [5] error message[only integer scalar arrays can be converted to a scalar index]",
     "output_type": "error",
     "traceback": [
      "\u001b[0;31m---------------------------------------------------------------------------\u001b[0m",
      "\u001b[0;31mTypeError\u001b[0m                                 Traceback (most recent call last)",
      "\u001b[0;32m/var/folders/7r/vsv5qx453z3931l81y_t76y80000gn/T/ipykernel_58888/184301285.py\u001b[0m in \u001b[0;36m<cell line: 0>\u001b[0;34m()\u001b[0m\n\u001b[1;32m      4\u001b[0m     \u001b[0mmodel_evaluation\u001b[0m \u001b[0;34m=\u001b[0m \u001b[0mModelEvaluation\u001b[0m\u001b[0;34m(\u001b[0m\u001b[0mconfig\u001b[0m\u001b[0;34m=\u001b[0m\u001b[0mmodel_evaluation_config\u001b[0m\u001b[0;34m)\u001b[0m\u001b[0;34m\u001b[0m\u001b[0;34m\u001b[0m\u001b[0m\n\u001b[0;32m----> 5\u001b[0;31m     \u001b[0mmodel_evaluation\u001b[0m\u001b[0;34m.\u001b[0m\u001b[0mevaluate_model\u001b[0m\u001b[0;34m(\u001b[0m\u001b[0;34m)\u001b[0m\u001b[0;34m\u001b[0m\u001b[0;34m\u001b[0m\u001b[0m\n\u001b[0m\u001b[1;32m      6\u001b[0m     \u001b[0;31m#model_evaluation.create_val_features()\u001b[0m\u001b[0;34m\u001b[0m\u001b[0;34m\u001b[0m\u001b[0m\n",
      "\u001b[0;32m/var/folders/7r/vsv5qx453z3931l81y_t76y80000gn/T/ipykernel_58888/3197496048.py\u001b[0m in \u001b[0;36mevaluate_model\u001b[0;34m(self)\u001b[0m\n\u001b[1;32m    133\u001b[0m     \u001b[0;32mdef\u001b[0m \u001b[0mevaluate_model\u001b[0m\u001b[0;34m(\u001b[0m\u001b[0mself\u001b[0m\u001b[0;34m)\u001b[0m\u001b[0;34m:\u001b[0m\u001b[0;34m\u001b[0m\u001b[0;34m\u001b[0m\u001b[0m\n\u001b[0;32m--> 134\u001b[0;31m         \u001b[0mpredictions\u001b[0m\u001b[0;34m,\u001b[0m \u001b[0mtest_labels\u001b[0m \u001b[0;34m=\u001b[0m \u001b[0mself\u001b[0m\u001b[0;34m.\u001b[0m\u001b[0mget_predictions\u001b[0m\u001b[0;34m(\u001b[0m\u001b[0;34m)\u001b[0m\u001b[0;34m\u001b[0m\u001b[0;34m\u001b[0m\u001b[0m\n\u001b[0m\u001b[1;32m    135\u001b[0m         \u001b[0mscore\u001b[0m \u001b[0;34m=\u001b[0m \u001b[0mself\u001b[0m\u001b[0;34m.\u001b[0m\u001b[0mmapk\u001b[0m\u001b[0;34m(\u001b[0m\u001b[0mtest_labels\u001b[0m\u001b[0;34m,\u001b[0m \u001b[0mpredicted\u001b[0m\u001b[0;34m=\u001b[0m\u001b[0mpredictions\u001b[0m\u001b[0;34m,\u001b[0m \u001b[0mk\u001b[0m\u001b[0;34m=\u001b[0m\u001b[0mself\u001b[0m\u001b[0;34m.\u001b[0m\u001b[0mconfig\u001b[0m\u001b[0;34m.\u001b[0m\u001b[0mn_neighbors\u001b[0m\u001b[0;34m)\u001b[0m\u001b[0;34m\u001b[0m\u001b[0;34m\u001b[0m\u001b[0m\n",
      "\u001b[0;32m/var/folders/7r/vsv5qx453z3931l81y_t76y80000gn/T/ipykernel_58888/3197496048.py\u001b[0m in \u001b[0;36mget_predictions\u001b[0;34m(self)\u001b[0m\n\u001b[1;32m    123\u001b[0m             \u001b[0mprint\u001b[0m\u001b[0;34m(\u001b[0m\u001b[0mindex_list\u001b[0m\u001b[0;34m)\u001b[0m\u001b[0;34m\u001b[0m\u001b[0;34m\u001b[0m\u001b[0m\n\u001b[0;32m--> 124\u001b[0;31m             \u001b[0mprediction_name\u001b[0m \u001b[0;34m=\u001b[0m \u001b[0;34m[\u001b[0m\u001b[0mimage_path_list\u001b[0m\u001b[0;34m[\u001b[0m\u001b[0mi\u001b[0m\u001b[0;34m]\u001b[0m\u001b[0;34m.\u001b[0m\u001b[0msplit\u001b[0m\u001b[0;34m(\u001b[0m\u001b[0;34m'/'\u001b[0m\u001b[0;34m)\u001b[0m\u001b[0;34m[\u001b[0m\u001b[0;34m-\u001b[0m\u001b[0;36m1\u001b[0m\u001b[0;34m]\u001b[0m \u001b[0;32mfor\u001b[0m \u001b[0mi\u001b[0m \u001b[0;32min\u001b[0m  \u001b[0mindex_list\u001b[0m\u001b[0;34m]\u001b[0m\u001b[0;34m\u001b[0m\u001b[0;34m\u001b[0m\u001b[0m\n\u001b[0m\u001b[1;32m    125\u001b[0m             \u001b[0mprint\u001b[0m\u001b[0;34m(\u001b[0m\u001b[0mprediction_name\u001b[0m\u001b[0;34m)\u001b[0m\u001b[0;34m\u001b[0m\u001b[0;34m\u001b[0m\u001b[0m\n",
      "\u001b[0;32m/var/folders/7r/vsv5qx453z3931l81y_t76y80000gn/T/ipykernel_58888/3197496048.py\u001b[0m in \u001b[0;36m<listcomp>\u001b[0;34m(.0)\u001b[0m\n\u001b[1;32m    123\u001b[0m             \u001b[0mprint\u001b[0m\u001b[0;34m(\u001b[0m\u001b[0mindex_list\u001b[0m\u001b[0;34m)\u001b[0m\u001b[0;34m\u001b[0m\u001b[0;34m\u001b[0m\u001b[0m\n\u001b[0;32m--> 124\u001b[0;31m             \u001b[0mprediction_name\u001b[0m \u001b[0;34m=\u001b[0m \u001b[0;34m[\u001b[0m\u001b[0mimage_path_list\u001b[0m\u001b[0;34m[\u001b[0m\u001b[0mi\u001b[0m\u001b[0;34m]\u001b[0m\u001b[0;34m.\u001b[0m\u001b[0msplit\u001b[0m\u001b[0;34m(\u001b[0m\u001b[0;34m'/'\u001b[0m\u001b[0;34m)\u001b[0m\u001b[0;34m[\u001b[0m\u001b[0;34m-\u001b[0m\u001b[0;36m1\u001b[0m\u001b[0;34m]\u001b[0m \u001b[0;32mfor\u001b[0m \u001b[0mi\u001b[0m \u001b[0;32min\u001b[0m  \u001b[0mindex_list\u001b[0m\u001b[0;34m]\u001b[0m\u001b[0;34m\u001b[0m\u001b[0;34m\u001b[0m\u001b[0m\n\u001b[0m\u001b[1;32m    125\u001b[0m             \u001b[0mprint\u001b[0m\u001b[0;34m(\u001b[0m\u001b[0mprediction_name\u001b[0m\u001b[0;34m)\u001b[0m\u001b[0;34m\u001b[0m\u001b[0;34m\u001b[0m\u001b[0m\n",
      "\u001b[0;31mTypeError\u001b[0m: only integer scalar arrays can be converted to a scalar index",
      "\nDuring handling of the above exception, another exception occurred:\n",
      "\u001b[0;31mCustomException\u001b[0m                           Traceback (most recent call last)",
      "\u001b[0;32m/var/folders/7r/vsv5qx453z3931l81y_t76y80000gn/T/ipykernel_58888/184301285.py\u001b[0m in \u001b[0;36m<cell line: 0>\u001b[0;34m()\u001b[0m\n\u001b[1;32m      6\u001b[0m     \u001b[0;31m#model_evaluation.create_val_features()\u001b[0m\u001b[0;34m\u001b[0m\u001b[0;34m\u001b[0m\u001b[0m\n\u001b[1;32m      7\u001b[0m \u001b[0;32mexcept\u001b[0m \u001b[0mException\u001b[0m \u001b[0;32mas\u001b[0m \u001b[0me\u001b[0m\u001b[0;34m:\u001b[0m\u001b[0;34m\u001b[0m\u001b[0;34m\u001b[0m\u001b[0m\n\u001b[0;32m----> 8\u001b[0;31m     \u001b[0;32mraise\u001b[0m \u001b[0mCustomException\u001b[0m\u001b[0;34m(\u001b[0m\u001b[0me\u001b[0m\u001b[0;34m)\u001b[0m\u001b[0;34m\u001b[0m\u001b[0;34m\u001b[0m\u001b[0m\n\u001b[0m",
      "\u001b[0;31mCustomException\u001b[0m: Error occured in python script name [/var/folders/7r/vsv5qx453z3931l81y_t76y80000gn/T/ipykernel_58888/184301285.py] line number [5] error message[only integer scalar arrays can be converted to a scalar index]"
     ]
    },
    {
     "name": "stdout",
     "output_type": "stream",
     "text": [
      "[2023-10-06 18:01:11,695: INFO: exception: Error occured in python script name [/var/folders/7r/vsv5qx453z3931l81y_t76y80000gn/T/ipykernel_58888/184301285.py] line number [5] error message[only integer scalar arrays can be converted to a scalar index]]\n"
     ]
    }
   ],
   "source": [
    "try:\n",
    "    configuration = ConfigurationManager()\n",
    "    model_evaluation_config =  configuration.get_model_evaluation_config()\n",
    "    model_evaluation = ModelEvaluation(config=model_evaluation_config)\n",
    "    model_evaluation.evaluate_model()\n",
    "    #model_evaluation.create_val_features()\n",
    "except Exception as e:\n",
    "    raise CustomException(e)"
   ]
  },
  {
   "cell_type": "code",
   "execution_count": null,
   "metadata": {},
   "outputs": [
    {
     "name": "stdout",
     "output_type": "stream",
     "text": [
      "/Users/ngkuissi/Dev/Image_Search_Engine\n"
     ]
    }
   ],
   "source": [
    "!pwd"
   ]
  },
  {
   "cell_type": "code",
   "execution_count": null,
   "metadata": {},
   "outputs": [],
   "source": []
  }
 ],
 "metadata": {
  "kernelspec": {
   "display_name": "search_env",
   "language": "python",
   "name": "python3"
  },
  "language_info": {
   "codemirror_mode": {
    "name": "ipython",
    "version": 3
   },
   "file_extension": ".py",
   "mimetype": "text/x-python",
   "name": "python",
   "nbconvert_exporter": "python",
   "pygments_lexer": "ipython3",
   "version": "3.11.5"
  },
  "orig_nbformat": 4
 },
 "nbformat": 4,
 "nbformat_minor": 2
}
