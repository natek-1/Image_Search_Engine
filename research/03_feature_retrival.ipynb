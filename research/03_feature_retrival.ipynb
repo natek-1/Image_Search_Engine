{
 "cells": [
  {
   "cell_type": "code",
   "execution_count": 1,
   "metadata": {},
   "outputs": [],
   "source": [
    "import os\n",
    "from ensure import ensure_annotations"
   ]
  },
  {
   "cell_type": "code",
   "execution_count": 2,
   "metadata": {},
   "outputs": [],
   "source": [
    "os.chdir(\"../\")"
   ]
  },
  {
   "cell_type": "code",
   "execution_count": 3,
   "metadata": {},
   "outputs": [
    {
     "name": "stdout",
     "output_type": "stream",
     "text": [
      "/Users/ngkuissi/Dev/Image_Search_Engine\n"
     ]
    }
   ],
   "source": [
    "!pwd"
   ]
  },
  {
   "cell_type": "code",
   "execution_count": 4,
   "metadata": {},
   "outputs": [],
   "source": [
    "from dataclasses import dataclass\n",
    "from pathlib import Path\n",
    "from typing import List\n",
    "\n",
    "@dataclass(frozen=True)\n",
    "class FeatureRetrivalConfig:\n",
    "    root_dir: Path\n",
    "    data_path: Path\n",
    "    feature_dir: Path\n",
    "    image_path_list_dir: Path\n",
    "    image_labels: Path\n",
    "    include_top: bool\n",
    "    pooling: str\n",
    "    input_shape: List\n",
    "    target_size: List"
   ]
  },
  {
   "cell_type": "code",
   "execution_count": 5,
   "metadata": {},
   "outputs": [],
   "source": [
    "from imageSearchEngine.constants import *\n",
    "from imageSearchEngine.utils.file_helpers import read_yaml, create_directories"
   ]
  },
  {
   "cell_type": "code",
   "execution_count": 6,
   "metadata": {},
   "outputs": [],
   "source": [
    "class ConfigurationManager:\n",
    "    @ensure_annotations\n",
    "    def __init__(\n",
    "        self,\n",
    "        config_filepath:Path = CONFIG_FILE_PATH,\n",
    "        params_filepath:Path = PARAMS_FILE_PATH):\n",
    "\n",
    "        self.config = read_yaml(config_filepath)\n",
    "        self.params = read_yaml(params_filepath)\n",
    "\n",
    "        create_directories([self.config.artifacts_root])\n",
    "\n",
    "    @ensure_annotations\n",
    "    def get_feature_retrival_config(self) -> FeatureRetrivalConfig:\n",
    "        config = self.config.feature_representation\n",
    "        params = self.params.feature_representation\n",
    "        create_directories([config.root_dir])\n",
    "\n",
    "        feature_retrival_config = FeatureRetrivalConfig(\n",
    "            root_dir = config.root_dir,\n",
    "            data_path = config.data_path,\n",
    "            feature_dir = config.feature_dir,\n",
    "            image_path_list_dir= config.image_path_list_dir,\n",
    "            image_labels= config.image_labels,\n",
    "            include_top= params.include_top,\n",
    "            pooling = params.pooling,\n",
    "            input_shape= params.input_shape,\n",
    "            target_size= params.target_size\n",
    "\n",
    "        )\n",
    "        return feature_retrival_config"
   ]
  },
  {
   "cell_type": "code",
   "execution_count": 7,
   "metadata": {},
   "outputs": [],
   "source": [
    "import os\n",
    "from tqdm import tqdm\n",
    "import pickle\n",
    "from tensorflow.keras.utils import load_img, img_to_array\n",
    "from tensorflow .keras.applications import resnet50\n",
    "import numpy as np\n",
    "from imageSearchEngine.logging.logger import log\n",
    "from imageSearchEngine.exception import CustomException"
   ]
  },
  {
   "cell_type": "code",
   "execution_count": 10,
   "metadata": {},
   "outputs": [],
   "source": [
    "class FeatureRetrival:\n",
    "\n",
    "    def __init__(self, config: FeatureRetrivalConfig):\n",
    "        self.config = config\n",
    "    \n",
    "    def retrive_labels(self):\n",
    "        labels = {}\n",
    "        for label in os.listdir(self.config.data_path):\n",
    "            image_path = os.path.join(self.config.data_path, f'{label}/images')\n",
    "            labels[label] = os.listdir(image_path)\n",
    "        log.info('all the labels and images were retrived')\n",
    "        pickle.dump(labels, open(self.config.image_labels, 'wb'))\n",
    "        log.info(f'all the labels were saved to {self.config.image_labels}')\n",
    "\n",
    "    def retrive_path(self) -> List:\n",
    "        image_path_list = []\n",
    "        for label in os.listdir(self.config.data_path):\n",
    "            image_path = os.path.join(self.config.data_path, f'{label}/images')\n",
    "            for image in os.listdir(image_path):\n",
    "                image_path_list.append(os.path.join(image_path, image))\n",
    "        log.info('all the image_path were retrived')\n",
    "        with open(self.config.image_path_list_dir, 'wb') as file:\n",
    "            pickle.dump(image_path_list, file)\n",
    "        log.info('all image paths were saved')\n",
    "        return image_path_list\n",
    "    \n",
    "    def retrive_embedding(self):\n",
    "        model = resnet50.ResNet50(\n",
    "            include_top=self.config.include_top,\n",
    "            input_shape=self.config.input_shape,\n",
    "            pooling=self.config.pooling\n",
    "        )\n",
    "        log.info('got resnet50 model from tensorflow')\n",
    "        image_path_list = self.retrive_path()\n",
    "        image_feature = []\n",
    "        for image_path in tqdm(image_path_list):\n",
    "            image = load_img(image_path, target_size=(224, 224))\n",
    "            image = img_to_array(image)\n",
    "            image = np.expand_dims(image, axis=0)\n",
    "            preprocess_image = resnet50.preprocess_input(image)\n",
    "            feature = model.predict(preprocess_image, verbose=0).flatten()\n",
    "            image_feature.append(feature)\n",
    "        log.info('all the features were loaded')\n",
    "        pickle.dump(image_feature, open(self.config.feature_dir, 'wb'))\n",
    "        log.info('all the feauture representaion where saved')\n",
    "        "
   ]
  },
  {
   "cell_type": "code",
   "execution_count": 11,
   "metadata": {},
   "outputs": [
    {
     "name": "stdout",
     "output_type": "stream",
     "text": [
      "[2023-09-11 18:11:35,898: INFO: file_helpers: yaml file: config/config.yaml loaded successfully]\n",
      "[2023-09-11 18:11:35,899: INFO: file_helpers: yaml file: params.yaml loaded successfully]\n",
      "[2023-09-11 18:11:35,899: INFO: file_helpers: created directory at: artifacts]\n",
      "[2023-09-11 18:11:35,900: INFO: file_helpers: created directory at: artifacts/embeddings]\n",
      "[2023-09-11 18:11:35,952: INFO: 405414696: all the labels and images were retrived]\n",
      "[2023-09-11 18:11:35,962: INFO: 405414696: all the labels were saved to artifacts/embeddings/labels.pkl]\n",
      "[2023-09-11 18:11:36,824: INFO: 405414696: got resnet50 model from tensorflow]\n",
      "[2023-09-11 18:11:36,905: INFO: 405414696: all the image_path were retrived]\n",
      "[2023-09-11 18:11:36,915: INFO: 405414696: all image paths were saved]\n"
     ]
    },
    {
     "name": "stderr",
     "output_type": "stream",
     "text": [
      "100%|██████████| 100000/100000 [1:58:44<00:00, 14.04it/s]  "
     ]
    },
    {
     "name": "stdout",
     "output_type": "stream",
     "text": [
      "[2023-09-11 20:10:21,385: INFO: 405414696: all the features were loaded]\n"
     ]
    },
    {
     "name": "stderr",
     "output_type": "stream",
     "text": [
      "\n"
     ]
    },
    {
     "name": "stdout",
     "output_type": "stream",
     "text": [
      "[2023-09-11 20:10:45,195: INFO: 405414696: all the feauture representaion where saved]\n"
     ]
    }
   ],
   "source": [
    "try:\n",
    "    config = ConfigurationManager()\n",
    "    feature_retrival_config = config.get_feature_retrival_config()\n",
    "    feature_retrival = FeatureRetrival(config=feature_retrival_config)\n",
    "    feature_retrival.retrive_labels()\n",
    "    feature_retrival.retrive_embedding()\n",
    "except Exception as e:\n",
    "    raise CustomException(e)"
   ]
  },
  {
   "cell_type": "code",
   "execution_count": 18,
   "metadata": {},
   "outputs": [
    {
     "name": "stdout",
     "output_type": "stream",
     "text": [
      "/Users/ngkuissi/Dev/Image_Search_Engine\n"
     ]
    }
   ],
   "source": [
    "!pwd"
   ]
  },
  {
   "cell_type": "code",
   "execution_count": 13,
   "metadata": {},
   "outputs": [
    {
     "data": {
      "text/plain": [
       "784.600076675415"
      ]
     },
     "execution_count": 13,
     "metadata": {},
     "output_type": "execute_result"
    }
   ],
   "source": [
    "os.path.getsize('artifacts/embeddings/embedding.pkl') / (1024 ** 2)"
   ]
  },
  {
   "cell_type": "code",
   "execution_count": null,
   "metadata": {},
   "outputs": [],
   "source": []
  }
 ],
 "metadata": {
  "kernelspec": {
   "display_name": "search_env",
   "language": "python",
   "name": "python3"
  },
  "language_info": {
   "codemirror_mode": {
    "name": "ipython",
    "version": 3
   },
   "file_extension": ".py",
   "mimetype": "text/x-python",
   "name": "python",
   "nbconvert_exporter": "python",
   "pygments_lexer": "ipython3",
   "version": "3.11.5"
  },
  "orig_nbformat": 4
 },
 "nbformat": 4,
 "nbformat_minor": 2
}
