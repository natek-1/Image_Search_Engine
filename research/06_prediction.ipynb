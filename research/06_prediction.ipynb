{
 "cells": [
  {
   "cell_type": "code",
   "execution_count": 1,
   "metadata": {},
   "outputs": [],
   "source": [
    "import os\n",
    "from ensure import ensure_annotations"
   ]
  },
  {
   "cell_type": "code",
   "execution_count": 2,
   "metadata": {},
   "outputs": [],
   "source": [
    "os.chdir(\"../\")"
   ]
  },
  {
   "cell_type": "code",
   "execution_count": 3,
   "metadata": {},
   "outputs": [
    {
     "name": "stdout",
     "output_type": "stream",
     "text": [
      "/Users/ngkuissi/Dev/Image_Search_Engine\n"
     ]
    }
   ],
   "source": [
    "!pwd"
   ]
  },
  {
   "cell_type": "code",
   "execution_count": 11,
   "metadata": {},
   "outputs": [],
   "source": [
    "from dataclasses import dataclass\n",
    "from pathlib import Path\n",
    "from typing import List\n",
    "\n",
    "@dataclass(frozen=True)\n",
    "class PredictionConfig:\n",
    "    model_path: Path\n",
    "    image_path_list_dir: Path\n",
    "    n_neighbors: int\n",
    "    return_distance: bool\n",
    "    include_top: bool\n",
    "    pooling: str\n",
    "    input_shape: List\n",
    "    target_size: List"
   ]
  },
  {
   "cell_type": "code",
   "execution_count": 12,
   "metadata": {},
   "outputs": [],
   "source": [
    "from imageSearchEngine.constants import *\n",
    "from imageSearchEngine.utils.file_helpers import read_yaml, create_directories"
   ]
  },
  {
   "cell_type": "code",
   "execution_count": 13,
   "metadata": {},
   "outputs": [],
   "source": [
    "class ConfigurationManager:\n",
    "    @ensure_annotations\n",
    "    def __init__(\n",
    "        self,\n",
    "        config_filepath:Path = CONFIG_FILE_PATH,\n",
    "        params_filepath:Path = PARAMS_FILE_PATH):\n",
    "\n",
    "        self.config = read_yaml(config_filepath)\n",
    "        self.params = read_yaml(params_filepath)\n",
    "\n",
    "        create_directories([self.config.artifacts_root])\n",
    "\n",
    "    @ensure_annotations\n",
    "    def get_prediction_config(self) -> PredictionConfig:\n",
    "        config = self.config.prediction\n",
    "        params = self.params.prediction\n",
    "        create_directories([config.root_dir])\n",
    "\n",
    "        prediction_config = PredictionConfig(\n",
    "            model_path= config.model_path,\n",
    "            image_path_list_dir = config.image_path_list_dir,\n",
    "            n_neighbors=params.n_neighbors,\n",
    "            return_distance= params.return_distance,\n",
    "            include_top= params.include_top,\n",
    "            pooling = params.pooling,\n",
    "            input_shape= params.input_shape,\n",
    "            target_size= params.target_size\n",
    "        )\n",
    "\n",
    "        return prediction_config"
   ]
  },
  {
   "cell_type": "code",
   "execution_count": 19,
   "metadata": {},
   "outputs": [],
   "source": [
    "import os\n",
    "from tqdm import tqdm\n",
    "import pickle\n",
    "from PIL import Image\n",
    "from sklearn.neighbors import KNeighborsClassifier\n",
    "from tensorflow.keras.utils import load_img, img_to_array\n",
    "from tensorflow .keras.applications import resnet50\n",
    "from tensorflow.image import resize\n",
    "import numpy as np\n",
    "\n",
    "from imageSearchEngine.logging.logger import log\n",
    "from imageSearchEngine.exception import CustomException"
   ]
  },
  {
   "cell_type": "code",
   "execution_count": 22,
   "metadata": {},
   "outputs": [],
   "source": [
    "class Prediction:\n",
    "\n",
    "    def __init__(self, config: PredictionConfig):\n",
    "        self.config = config\n",
    "\n",
    "\n",
    "    def extract(self, image):\n",
    "        model = resnet50.ResNet50(\n",
    "            include_top=self.config.include_top,\n",
    "            input_shape=self.config.input_shape,\n",
    "            pooling=self.config.pooling\n",
    "        )\n",
    "        image = img_to_array(image)\n",
    "        image = np.expand_dims(image, axis=0)\n",
    "        image = resize(image, self.config.target_size)\n",
    "        preprocess_image = resnet50.preprocess_input(image)\n",
    "        feature = model.predict(preprocess_image, verbose=0).flatten()\n",
    "        return feature\n",
    "        \n",
    "\n",
    "    \n",
    "    def predict(self, image) -> List:\n",
    "        im = Image.open(image)\n",
    "        feature = self.extract(im)\n",
    "        image_path_list = pickle.load(open(self.config.image_path_list_dir, 'rb'))\n",
    "        model: KNeighborsClassifier = pickle.load(open(self.config.model_path, 'rb'))\n",
    "        index_list = model.kneighbors(feature.reshape(1, -1),\n",
    "                                        n_neighbors=self.config.n_neighbors, return_distance=self.config.return_distance\n",
    "                                        )[0]\n",
    "        prediction_path = [image_path_list[i] for i in  index_list]\n",
    "        return prediction_path\n",
    "\n"
   ]
  },
  {
   "cell_type": "code",
   "execution_count": 23,
   "metadata": {},
   "outputs": [
    {
     "name": "stdout",
     "output_type": "stream",
     "text": [
      "[2023-10-10 18:53:55,345: INFO: file_helpers: yaml file: config/config.yaml loaded successfully]\n",
      "[2023-10-10 18:53:55,348: INFO: file_helpers: yaml file: params.yaml loaded successfully]\n",
      "[2023-10-10 18:53:55,349: INFO: file_helpers: created directory at: artifacts]\n",
      "[2023-10-10 18:53:55,349: INFO: file_helpers: created directory at: artifacts/predictions]\n",
      "['artifacts/data_ingestion/tiny-imagenet-200/train/n01629819/images/n01629819_440.JPEG', 'artifacts/data_ingestion/tiny-imagenet-200/train/n01629819/images/n01629819_10.JPEG', 'artifacts/data_ingestion/tiny-imagenet-200/train/n01629819/images/n01629819_273.JPEG', 'artifacts/data_ingestion/tiny-imagenet-200/train/n01629819/images/n01629819_362.JPEG', 'artifacts/data_ingestion/tiny-imagenet-200/train/n01629819/images/n01629819_45.JPEG', 'artifacts/data_ingestion/tiny-imagenet-200/train/n01629819/images/n01629819_186.JPEG', 'artifacts/data_ingestion/tiny-imagenet-200/train/n03444034/images/n03444034_191.JPEG', 'artifacts/data_ingestion/tiny-imagenet-200/train/n01629819/images/n01629819_447.JPEG', 'artifacts/data_ingestion/tiny-imagenet-200/train/n01629819/images/n01629819_298.JPEG', 'artifacts/data_ingestion/tiny-imagenet-200/train/n01629819/images/n01629819_380.JPEG', 'artifacts/data_ingestion/tiny-imagenet-200/train/n01629819/images/n01629819_296.JPEG', 'artifacts/data_ingestion/tiny-imagenet-200/train/n04285008/images/n04285008_300.JPEG', 'artifacts/data_ingestion/tiny-imagenet-200/train/n01629819/images/n01629819_57.JPEG', 'artifacts/data_ingestion/tiny-imagenet-200/train/n01629819/images/n01629819_151.JPEG', 'artifacts/data_ingestion/tiny-imagenet-200/train/n01983481/images/n01983481_93.JPEG', 'artifacts/data_ingestion/tiny-imagenet-200/train/n01629819/images/n01629819_193.JPEG', 'artifacts/data_ingestion/tiny-imagenet-200/train/n04285008/images/n04285008_105.JPEG', 'artifacts/data_ingestion/tiny-imagenet-200/train/n01629819/images/n01629819_161.JPEG', 'artifacts/data_ingestion/tiny-imagenet-200/train/n01629819/images/n01629819_181.JPEG', 'artifacts/data_ingestion/tiny-imagenet-200/train/n01629819/images/n01629819_59.JPEG']\n"
     ]
    }
   ],
   "source": [
    "try:\n",
    "    configuration = ConfigurationManager()\n",
    "    model_evaluation_config =  configuration.get_prediction_config()\n",
    "    model_evaluation = Prediction(config=model_evaluation_config)\n",
    "    print(model_evaluation.predict(\"artifacts/data_ingestion/tiny-imagenet-200/val/n01629819/images/val_3592.JPEG\"))\n",
    "except Exception as e:\n",
    "    raise CustomException(e)"
   ]
  },
  {
   "cell_type": "code",
   "execution_count": null,
   "metadata": {},
   "outputs": [],
   "source": []
  }
 ],
 "metadata": {
  "kernelspec": {
   "display_name": "search_env",
   "language": "python",
   "name": "python3"
  },
  "language_info": {
   "codemirror_mode": {
    "name": "ipython",
    "version": 3
   },
   "file_extension": ".py",
   "mimetype": "text/x-python",
   "name": "python",
   "nbconvert_exporter": "python",
   "pygments_lexer": "ipython3",
   "version": "3.11.5"
  },
  "orig_nbformat": 4
 },
 "nbformat": 4,
 "nbformat_minor": 2
}
